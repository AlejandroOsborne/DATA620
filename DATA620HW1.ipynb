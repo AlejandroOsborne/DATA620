{
 "cells": [
  {
   "cell_type": "markdown",
   "metadata": {},
   "source": [
    "DATA 620 Assignment 1 - Alejandro Osborne"
   ]
  },
  {
   "cell_type": "code",
   "execution_count": 1,
   "metadata": {},
   "outputs": [],
   "source": [
    "import matplotlib.pyplot as plt\n",
    "import networkx as nx"
   ]
  },
  {
   "cell_type": "code",
   "execution_count": 2,
   "metadata": {},
   "outputs": [],
   "source": [
    "G=nx.Graph()\n",
    "#edges\n",
    "G.add_edge('Alex','Desha')\n",
    "G.add_edge('Alex','Clarence')\n",
    "G.add_edge('Alex','Clare')\n",
    "G.add_edge('Desha','Alex')\n",
    "G.add_edge('Desha','Clare')\n",
    "G.add_edge('Desha','Quey')\n",
    "G.add_edge('Clarence','Alex')\n",
    "G.add_edge('Clarence','Clare')\n",
    "G.add_edge('Clarence','Jihan')\n",
    "G.add_edge('Jihan','Sol')\n",
    "G.add_edge('Jihan','Clare')\n",
    "G.add_edge('Jihan','Clarence')\n",
    "G.add_edge('Sol','Quey')\n",
    "G.add_edge('Sol','Clare')\n",
    "G.add_edge('Sol','Jihan')\n",
    "G.add_edge('Sol','Rich')\n",
    "G.add_edge('Quey','Desha')\n",
    "G.add_edge('Quey','Clare')\n",
    "G.add_edge('Quey','Sol')\n",
    "G.add_edge('Rich','Jihan')\n",
    "G.add_edge('Rich','Sol')\n",
    "G.add_edge('Rich','Nik')\n",
    "G.add_edge('Nik','Rich')\n",
    "G.add_edge('Nik','Chris')\n",
    "G.add_edge('Chris','Nik')\n"
   ]
  },
  {
   "cell_type": "code",
   "execution_count": 3,
   "metadata": {},
   "outputs": [],
   "source": [
    "pos={'Alex':(0,1),\n",
    "     'Desha':(0,-1),\n",
    "     'Clarence':(1,2),\n",
    "     'Clare':(1,0),\n",
    "     'Quey':(1,-2),\n",
    "     'Nik':(4,0),\n",
    "     'Sol':(2,-1),\n",
    "     'Chris':(5,0),\n",
    "     'Jihan':(2,1),\n",
    "     'Rich':(3,0)}"
   ]
  },
  {
   "cell_type": "code",
   "execution_count": 6,
   "metadata": {},
   "outputs": [
    {
     "data": {
      "image/png": "[encoded data removed]",
      "text/plain": [
       "<Figure size 432x288 with 1 Axes>"
      ]
     },
     "metadata": {},
     "output_type": "display_data"
    }
   ],
   "source": [
    "#This presents the nodes decribed above\n",
    "nx.draw_networkx_nodes(G,pos,node_size=1000, node_color='r')\n",
    "\n",
    "#Along with the edges\n",
    "nx.draw_networkx_edges(G,pos,alpha=0.5,width=6)\n",
    "\n",
    "#The family member names\n",
    "nx.draw_networkx_labels(G,pos,font_size=15,font_family='calibri')\n",
    "\n",
    "plt.axis('off')\n",
    "plt.show() # display"
   ]
  },
  {
   "cell_type": "code",
   "execution_count": null,
   "metadata": {},
   "outputs": [],
   "source": []
  }
 ],
 "metadata": {
  "kernelspec": {
   "display_name": "Python 3",
   "language": "python",
   "name": "python3"
  },
  "language_info": {
   "codemirror_mode": {
    "name": "ipython",
    "version": 3
   },
   "file_extension": ".py",
   "mimetype": "text/x-python",
   "name": "python",
   "nbconvert_exporter": "python",
   "pygments_lexer": "ipython3",
   "version": "3.6.5"
  }
 },
 "nbformat": 4,
 "nbformat_minor": 2
}
